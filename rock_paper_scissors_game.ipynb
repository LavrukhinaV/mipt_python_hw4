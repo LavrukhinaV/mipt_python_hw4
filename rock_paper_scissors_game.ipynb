{
 "cells": [
  {
   "cell_type": "code",
   "execution_count": null,
   "metadata": {
    "id": "yz23vWHD0wcj"
   },
   "outputs": [],
   "source": [
    "import numpy as np\n",
    "import pandas as pd\n",
    "\n",
    "import matplotlib.pyplot as plt\n",
    "import seaborn as sns\n",
    "\n",
    "from kaggle_environments import make, evaluate"
   ]
  },
  {
   "cell_type": "code",
   "execution_count": 44,
   "metadata": {
    "id": "bqTqV7B92rJ6"
   },
   "outputs": [
    {
     "name": "stdout",
     "output_type": "stream",
     "text": [
      "Writing rock_agent.py\n"
     ]
    }
   ],
   "source": [
    "%%writefile rock_agent.py\n",
    "\n",
    "# Обозначения для ходов:\n",
    "# 0 - камень\n",
    "# 1 - бумага\n",
    "# 2 - ножницы\n",
    "\n",
    "# 1. Агент, который всегда выбирает \"камень\"\n",
    "def rock_agent(observation, configuration):\n",
    "    return 0"
   ]
  },
  {
   "cell_type": "code",
   "execution_count": 45,
   "metadata": {},
   "outputs": [
    {
     "name": "stdout",
     "output_type": "stream",
     "text": [
      "Writing paper_agent.py\n"
     ]
    }
   ],
   "source": [
    "%%writefile paper_agent.py\n",
    "# 2. Агент, который всегда выбирает \"бумагу\"\n",
    "def paper_agent(observation, configuration):\n",
    "    return 1"
   ]
  },
  {
   "cell_type": "code",
   "execution_count": 46,
   "metadata": {},
   "outputs": [
    {
     "name": "stdout",
     "output_type": "stream",
     "text": [
      "Writing scissors_agent.py\n"
     ]
    }
   ],
   "source": [
    "%%writefile scissors_agent.py\n",
    "# 3. Агент, который всегда выбирает \"ножницы\"\n",
    "def scissors_agent(observation, configuration):\n",
    "    return 2"
   ]
  },
  {
   "cell_type": "code",
   "execution_count": 47,
   "metadata": {
    "id": "7l6Ttw6qi0jk"
   },
   "outputs": [
    {
     "name": "stdout",
     "output_type": "stream",
     "text": [
      "Writing copy_opponent_agent.py\n"
     ]
    }
   ],
   "source": [
    "%%writefile copy_opponent_agent.py\n",
    "# 4. Агент, который копирует последний ход оппонента\n",
    "import random\n",
    "\n",
    "def copy_opponent_agent(observation, configuration):\n",
    "    if observation.step > 0:\n",
    "        return observation.lastOpponentAction  # копирует предыдущий ход противника\n",
    "    else:\n",
    "        return random.randrange(0, configuration.signs)  # случайный ход на первом шаге"
   ]
  },
  {
   "cell_type": "code",
   "execution_count": 48,
   "metadata": {},
   "outputs": [
    {
     "name": "stdout",
     "output_type": "stream",
     "text": [
      "Writing anti_copy_agent.py\n"
     ]
    }
   ],
   "source": [
    "%%writefile anti_copy_agent.py\n",
    "# 5. Агент пытается предугадать, что противник скопирует его прошлый ход,\n",
    "# и выбирает ход, который победит этот предполагаемый выбор.\n",
    "import random\n",
    "\n",
    "def anti_copy_agent(observation, configuration):\n",
    "    if observation.step > 0:\n",
    "        predicted_opponent_action = (observation.lastOpponentAction + 1) % configuration.signs\n",
    "        return (predicted_opponent_action + 1) % configuration.signs  # выбирает ход, который побеждает предполагаемый выбор противника\n",
    "    else:\n",
    "        return random.randrange(0, configuration.signs)  # случайный ход на первом шаге"
   ]
  },
  {
   "cell_type": "code",
   "execution_count": 49,
   "metadata": {},
   "outputs": [
    {
     "name": "stdout",
     "output_type": "stream",
     "text": [
      "Writing rock_paper_agent.py\n"
     ]
    }
   ],
   "source": [
    "%%writefile rock_paper_agent.py\n",
    "# 6. Агент, который случайно выбирает между \"камнем\" и \"бумагой\"\n",
    "import random\n",
    "\n",
    "def rock_paper_agent(observation, configuration):\n",
    "    return random.randint(0, 1)"
   ]
  },
  {
   "cell_type": "code",
   "execution_count": 50,
   "metadata": {},
   "outputs": [
    {
     "name": "stdout",
     "output_type": "stream",
     "text": [
      "Writing paper_scissors_agent.py\n"
     ]
    }
   ],
   "source": [
    "%%writefile paper_scissors_agent.py\n",
    "# 7. Агент, который случайно выбирает между \"бумагой\" и \"ножницами\"\n",
    "import random\n",
    "\n",
    "def paper_scissors_agent(observation, configuration):\n",
    "    return random.randint(1, 2)"
   ]
  },
  {
   "cell_type": "code",
   "execution_count": null,
   "metadata": {},
   "outputs": [
    {
     "name": "stdout",
     "output_type": "stream",
     "text": [
      "Writing rock_scissors_agent.py\n"
     ]
    }
   ],
   "source": [
    "%%writefile rock_scissors_agent.py\n",
    "# 8. Агент, который случайно выбирает между \"камнем\", \"ножницами\" и \"бумагой\"\n",
    "import random\n",
    "\n",
    "def rock_scissors_agent(observation, configuration):\n",
    "    return random.randint(0, 2)"
   ]
  },
  {
   "cell_type": "code",
   "execution_count": 52,
   "metadata": {},
   "outputs": [
    {
     "name": "stdout",
     "output_type": "stream",
     "text": [
      "Writing cycle_agent.py\n"
     ]
    }
   ],
   "source": [
    "%%writefile cycle_agent.py\n",
    "# 9. Агент циклически повторяет ходы: камень -> ножницы -> бумага.\n",
    "\n",
    "def cycle_agent(observation, configuration):\n",
    "    if observation.step == 0:\n",
    "        return 0  # камень на первом шаге\n",
    "    else:\n",
    "        return (observation.step % 3)  # циклический выбор: камень -> ножницы -> бумага"
   ]
  },
  {
   "cell_type": "code",
   "execution_count": 53,
   "metadata": {},
   "outputs": [
    {
     "name": "stdout",
     "output_type": "stream",
     "text": [
      "Writing reactionary_agent.py\n"
     ]
    }
   ],
   "source": [
    "%%writefile reactionary_agent.py\n",
    "# 10. Агент, который адаптировует свою стратегию в зависимости от того, какие действия выбирает противник.\n",
    "# Реагирует на последнее действие противника, пытаясь выбрать действие, которое победит его.\n",
    "import random\n",
    "import math\n",
    "\n",
    "# Функция get_score предназначена для вычисления результата между двумя действиями агентов.\n",
    "# Возвращает 0 для ничьей, 1 для выигрыша первого игрока и -1 для выигрыша второго игрока.\n",
    "def get_score(left_move, right_move):\n",
    "    delta = (\n",
    "        right_move - left_move\n",
    "        if (left_move + right_move) % 2 == 0\n",
    "        else left_move - right_move\n",
    "    )\n",
    "    return 0 if delta == 0 else math.copysign(1, delta)\n",
    "\n",
    "last_react_action = None\n",
    "def reactionary_agent(observation, configuration):\n",
    "    global last_react_action\n",
    "    if observation.step == 0:\n",
    "        last_react_action = random.randrange(0, configuration.signs)\n",
    "    elif get_score(last_react_action, observation.lastOpponentAction) <= 1:\n",
    "        last_react_action = (observation.lastOpponentAction + 1) % configuration.signs\n",
    "\n",
    "    return last_react_action"
   ]
  },
  {
   "cell_type": "code",
   "execution_count": 54,
   "metadata": {},
   "outputs": [
    {
     "name": "stdout",
     "output_type": "stream",
     "text": [
      "Writing counter_reactionary_agent.py\n"
     ]
    }
   ],
   "source": [
    "%%writefile counter_reactionary_agent.py\n",
    "# 11. Агент, который предугадывает действия противника, основываясь на результатах предыдущих раундов.\n",
    "\n",
    "import random\n",
    "import math\n",
    "\n",
    "# Функция get_score предназначена для вычисления результата между двумя действиями агентов.\n",
    "# Возвращает 0 для ничьей, 1 для выигрыша первого игрока и -1 для выигрыша второго игрока.\n",
    "def get_score(left_move, right_move):\n",
    "    delta = (\n",
    "        right_move - left_move\n",
    "        if (left_move + right_move) % 2 == 0\n",
    "        else left_move - right_move\n",
    "    )\n",
    "    return 0 if delta == 0 else math.copysign(1, delta)\n",
    "\n",
    "def counter_reactionary_agent(observation, configuration):\n",
    "    global last_counter_action\n",
    "    if observation.step == 0:\n",
    "        last_counter_action = random.randrange(0, configuration.signs)\n",
    "    elif get_score(last_counter_action, observation.lastOpponentAction) == 1:\n",
    "        last_counter_action = (last_counter_action + 2) % configuration.signs\n",
    "    else:\n",
    "        last_counter_action = (observation.lastOpponentAction + 1) % configuration.signs\n",
    "\n",
    "    return last_counter_action\n"
   ]
  },
  {
   "cell_type": "code",
   "execution_count": 55,
   "metadata": {},
   "outputs": [
    {
     "name": "stdout",
     "output_type": "stream",
     "text": [
      "Writing statistical_agent.py\n"
     ]
    }
   ],
   "source": [
    "%%writefile statistical_agent.py\n",
    "\n",
    "# 12. Агент, который анализирует действия противника и выбирает свое следующее действие на основе наиболее часто встречающегося (модального) действия противника. \n",
    "def statistical_agent(observation, configuration):\n",
    "    global action_histogram\n",
    "    if observation.step == 0:\n",
    "        action_histogram = {}\n",
    "        return\n",
    "    action = observation.lastOpponentAction\n",
    "    if action not in action_histogram:\n",
    "        action_histogram[action] = 0\n",
    "    action_histogram[action] += 1\n",
    "    mode_action = None\n",
    "    mode_action_count = None\n",
    "    for k, v in action_histogram.items():\n",
    "        if mode_action_count is None or v > mode_action_count:\n",
    "            mode_action = k\n",
    "            mode_action_count = v\n",
    "            continue\n",
    "\n",
    "    return (mode_action + 1) % configuration.signs"
   ]
  },
  {
   "cell_type": "code",
   "execution_count": 62,
   "metadata": {},
   "outputs": [
    {
     "name": "stdout",
     "output_type": "stream",
     "text": [
      "Overwriting pattern_agent.py\n"
     ]
    }
   ],
   "source": [
    "%%writefile pattern_agent.py\n",
    "#13. Агент пытается найти повторяющийся шаблон в ходах противника и выбирает ход, который побеждает следующий ход в этом шаблоне.\n",
    "import random\n",
    "\n",
    "opponent_history = []\n",
    "\n",
    "def pattern_agent(observation, configuration):\n",
    "    global opponent_history\n",
    "    \n",
    "    if observation.step == 0:\n",
    "        opponent_history = []  # Инициализация истории на первом шаге\n",
    "        return random.randrange(0, configuration.signs)  # Случайный ход на первом шаге\n",
    "    else:\n",
    "        opponent_history.append(observation.lastOpponentAction)\n",
    "        \n",
    "        if len(opponent_history) < 3:\n",
    "            return (opponent_history[-1] + 1) % configuration.signs  # Выбор хода, который побеждает последний ход противника\n",
    "        \n",
    "        # Поиск шаблона\n",
    "        pattern_length = 3  # Длина шаблона для поиска\n",
    "        if len(opponent_history) >= pattern_length:\n",
    "            # Проверяем, есть ли повторяющийся шаблон\n",
    "            for i in range(len(opponent_history) - pattern_length):\n",
    "                if opponent_history[i:i + pattern_length] == opponent_history[-pattern_length:]:\n",
    "                    predicted_opponent_action = opponent_history[(i + pattern_length) % len(opponent_history)]\n",
    "                    return (predicted_opponent_action + 1) % configuration.signs  # Выбор хода, который побеждает предполагаемый следующий ход\n",
    "        \n",
    "        # Если не найден шаблон, выбираем ход, который побеждает последний ход противника\n",
    "        return (opponent_history[-1] + 1) % configuration.signs\n"
   ]
  },
  {
   "cell_type": "code",
   "execution_count": 74,
   "metadata": {
    "id": "wv6Ip6M004xa"
   },
   "outputs": [
    {
     "name": "stdout",
     "output_type": "stream",
     "text": [
      "The winner is pattern_agent.py !\n"
     ]
    }
   ],
   "source": [
    "# Турнир между агентами\n",
    "agents = ['anti_copy_agent', 'copy_opponent_agent', 'counter_reactionary_agent',\n",
    "          'cycle_agent', 'paper_agent', 'paper_scissors_agent', 'pattern_agent',\n",
    "          'reactionary_agent', 'rock_agent', 'rock_paper_agent', 'rock_scissors_agent',\n",
    "          'scissors_agent', 'statistical_agent']\n",
    "\n",
    "# Добавляем .py к каждому агенту\n",
    "agents_py = [i + \".py\" for i in agents]\n",
    "n_agents = len(agents)\n",
    "\n",
    "# Инициализируем матрицу результатов\n",
    "scores = np.zeros((n_agents, n_agents))\n",
    "\n",
    "# Играем каждый агент против каждого\n",
    "for i in range(n_agents):\n",
    "    for j in range(i + 1, n_agents):\n",
    "        result = evaluate(\"rps\", [agents_py[i], agents_py[j]], configuration={\"episodeSteps\": 100}, num_episodes=1)\n",
    "        scores[i][j] = result[0][0]  # сохраняем результат для агента i\n",
    "        scores[j][i] = result[0][1]  # сохраняем результат для агента j\n",
    "\n",
    "# Определяем победителя\n",
    "vic = []\n",
    "for i in range(n_agents):\n",
    "    cnt_vic = sum(1 for j in range(n_agents) if scores[i][j] > 0)  # считаем победы агента\n",
    "    vic.append(cnt_vic)\n",
    "\n",
    "# Определяем индексы победителей\n",
    "i_victors = [i for i, v in enumerate(vic) if v == max(vic)]\n",
    "if len(i_victors) > 1:\n",
    "    print(\"The winners are\", '\\n', *[agents_py[i] for i in i_victors], \"!\")\n",
    "else:\n",
    "    print(\"The winner is\", agents_py[i_victors[0]], \"!\")"
   ]
  },
  {
   "cell_type": "code",
   "execution_count": 75,
   "metadata": {},
   "outputs": [
    {
     "data": {
      "text/html": [
       "<div>\n",
       "<style scoped>\n",
       "    .dataframe tbody tr th:only-of-type {\n",
       "        vertical-align: middle;\n",
       "    }\n",
       "\n",
       "    .dataframe tbody tr th {\n",
       "        vertical-align: top;\n",
       "    }\n",
       "\n",
       "    .dataframe thead th {\n",
       "        text-align: right;\n",
       "    }\n",
       "</style>\n",
       "<table border=\"1\" class=\"dataframe\">\n",
       "  <thead>\n",
       "    <tr style=\"text-align: right;\">\n",
       "      <th></th>\n",
       "      <th>anti_copy_agent</th>\n",
       "      <th>copy_opponent_agent</th>\n",
       "      <th>counter_reactionary_agent</th>\n",
       "      <th>cycle_agent</th>\n",
       "      <th>paper_agent</th>\n",
       "      <th>paper_scissors_agent</th>\n",
       "      <th>pattern_agent</th>\n",
       "      <th>reactionary_agent</th>\n",
       "      <th>rock_agent</th>\n",
       "      <th>rock_paper_agent</th>\n",
       "      <th>rock_scissors_agent</th>\n",
       "      <th>scissors_agent</th>\n",
       "      <th>statistical_agent</th>\n",
       "    </tr>\n",
       "  </thead>\n",
       "  <tbody>\n",
       "    <tr>\n",
       "      <th>anti_copy_agent</th>\n",
       "      <td>0.0</td>\n",
       "      <td>-49.0</td>\n",
       "      <td>49.0</td>\n",
       "      <td>98.0</td>\n",
       "      <td>-97.0</td>\n",
       "      <td>-29.0</td>\n",
       "      <td>-99.0</td>\n",
       "      <td>49.0</td>\n",
       "      <td>-98.0</td>\n",
       "      <td>-30.0</td>\n",
       "      <td>0.0</td>\n",
       "      <td>-98.0</td>\n",
       "      <td>-96.0</td>\n",
       "    </tr>\n",
       "    <tr>\n",
       "      <th>copy_opponent_agent</th>\n",
       "      <td>49.0</td>\n",
       "      <td>0.0</td>\n",
       "      <td>99.0</td>\n",
       "      <td>-99.0</td>\n",
       "      <td>0.0</td>\n",
       "      <td>0.0</td>\n",
       "      <td>-64.0</td>\n",
       "      <td>-49.0</td>\n",
       "      <td>0.0</td>\n",
       "      <td>0.0</td>\n",
       "      <td>0.0</td>\n",
       "      <td>0.0</td>\n",
       "      <td>-20.0</td>\n",
       "    </tr>\n",
       "    <tr>\n",
       "      <th>counter_reactionary_agent</th>\n",
       "      <td>-49.0</td>\n",
       "      <td>-99.0</td>\n",
       "      <td>0.0</td>\n",
       "      <td>0.0</td>\n",
       "      <td>48.0</td>\n",
       "      <td>0.0</td>\n",
       "      <td>-44.0</td>\n",
       "      <td>0.0</td>\n",
       "      <td>49.0</td>\n",
       "      <td>0.0</td>\n",
       "      <td>0.0</td>\n",
       "      <td>48.0</td>\n",
       "      <td>0.0</td>\n",
       "    </tr>\n",
       "    <tr>\n",
       "      <th>cycle_agent</th>\n",
       "      <td>-98.0</td>\n",
       "      <td>99.0</td>\n",
       "      <td>0.0</td>\n",
       "      <td>0.0</td>\n",
       "      <td>0.0</td>\n",
       "      <td>0.0</td>\n",
       "      <td>-92.0</td>\n",
       "      <td>0.0</td>\n",
       "      <td>0.0</td>\n",
       "      <td>0.0</td>\n",
       "      <td>0.0</td>\n",
       "      <td>0.0</td>\n",
       "      <td>0.0</td>\n",
       "    </tr>\n",
       "    <tr>\n",
       "      <th>paper_agent</th>\n",
       "      <td>97.0</td>\n",
       "      <td>0.0</td>\n",
       "      <td>-48.0</td>\n",
       "      <td>0.0</td>\n",
       "      <td>0.0</td>\n",
       "      <td>-39.0</td>\n",
       "      <td>-99.0</td>\n",
       "      <td>-97.0</td>\n",
       "      <td>99.0</td>\n",
       "      <td>41.0</td>\n",
       "      <td>0.0</td>\n",
       "      <td>-99.0</td>\n",
       "      <td>-97.0</td>\n",
       "    </tr>\n",
       "    <tr>\n",
       "      <th>paper_scissors_agent</th>\n",
       "      <td>29.0</td>\n",
       "      <td>0.0</td>\n",
       "      <td>0.0</td>\n",
       "      <td>0.0</td>\n",
       "      <td>39.0</td>\n",
       "      <td>0.0</td>\n",
       "      <td>-37.0</td>\n",
       "      <td>0.0</td>\n",
       "      <td>0.0</td>\n",
       "      <td>29.0</td>\n",
       "      <td>0.0</td>\n",
       "      <td>-45.0</td>\n",
       "      <td>0.0</td>\n",
       "    </tr>\n",
       "    <tr>\n",
       "      <th>pattern_agent</th>\n",
       "      <td>99.0</td>\n",
       "      <td>64.0</td>\n",
       "      <td>44.0</td>\n",
       "      <td>92.0</td>\n",
       "      <td>99.0</td>\n",
       "      <td>37.0</td>\n",
       "      <td>0.0</td>\n",
       "      <td>29.0</td>\n",
       "      <td>97.0</td>\n",
       "      <td>0.0</td>\n",
       "      <td>0.0</td>\n",
       "      <td>98.0</td>\n",
       "      <td>27.0</td>\n",
       "    </tr>\n",
       "    <tr>\n",
       "      <th>reactionary_agent</th>\n",
       "      <td>-49.0</td>\n",
       "      <td>49.0</td>\n",
       "      <td>0.0</td>\n",
       "      <td>0.0</td>\n",
       "      <td>97.0</td>\n",
       "      <td>0.0</td>\n",
       "      <td>-29.0</td>\n",
       "      <td>0.0</td>\n",
       "      <td>98.0</td>\n",
       "      <td>29.0</td>\n",
       "      <td>-20.0</td>\n",
       "      <td>97.0</td>\n",
       "      <td>57.0</td>\n",
       "    </tr>\n",
       "    <tr>\n",
       "      <th>rock_agent</th>\n",
       "      <td>98.0</td>\n",
       "      <td>0.0</td>\n",
       "      <td>-49.0</td>\n",
       "      <td>0.0</td>\n",
       "      <td>-99.0</td>\n",
       "      <td>0.0</td>\n",
       "      <td>-97.0</td>\n",
       "      <td>-98.0</td>\n",
       "      <td>0.0</td>\n",
       "      <td>-55.0</td>\n",
       "      <td>0.0</td>\n",
       "      <td>99.0</td>\n",
       "      <td>-98.0</td>\n",
       "    </tr>\n",
       "    <tr>\n",
       "      <th>rock_paper_agent</th>\n",
       "      <td>30.0</td>\n",
       "      <td>0.0</td>\n",
       "      <td>0.0</td>\n",
       "      <td>0.0</td>\n",
       "      <td>-41.0</td>\n",
       "      <td>-29.0</td>\n",
       "      <td>0.0</td>\n",
       "      <td>-29.0</td>\n",
       "      <td>55.0</td>\n",
       "      <td>0.0</td>\n",
       "      <td>0.0</td>\n",
       "      <td>0.0</td>\n",
       "      <td>0.0</td>\n",
       "    </tr>\n",
       "    <tr>\n",
       "      <th>rock_scissors_agent</th>\n",
       "      <td>0.0</td>\n",
       "      <td>0.0</td>\n",
       "      <td>0.0</td>\n",
       "      <td>0.0</td>\n",
       "      <td>0.0</td>\n",
       "      <td>0.0</td>\n",
       "      <td>0.0</td>\n",
       "      <td>20.0</td>\n",
       "      <td>0.0</td>\n",
       "      <td>0.0</td>\n",
       "      <td>0.0</td>\n",
       "      <td>0.0</td>\n",
       "      <td>0.0</td>\n",
       "    </tr>\n",
       "    <tr>\n",
       "      <th>scissors_agent</th>\n",
       "      <td>98.0</td>\n",
       "      <td>0.0</td>\n",
       "      <td>-48.0</td>\n",
       "      <td>0.0</td>\n",
       "      <td>99.0</td>\n",
       "      <td>45.0</td>\n",
       "      <td>-98.0</td>\n",
       "      <td>-97.0</td>\n",
       "      <td>-99.0</td>\n",
       "      <td>0.0</td>\n",
       "      <td>0.0</td>\n",
       "      <td>0.0</td>\n",
       "      <td>-99.0</td>\n",
       "    </tr>\n",
       "    <tr>\n",
       "      <th>statistical_agent</th>\n",
       "      <td>96.0</td>\n",
       "      <td>20.0</td>\n",
       "      <td>0.0</td>\n",
       "      <td>0.0</td>\n",
       "      <td>97.0</td>\n",
       "      <td>0.0</td>\n",
       "      <td>-27.0</td>\n",
       "      <td>-57.0</td>\n",
       "      <td>98.0</td>\n",
       "      <td>0.0</td>\n",
       "      <td>0.0</td>\n",
       "      <td>99.0</td>\n",
       "      <td>0.0</td>\n",
       "    </tr>\n",
       "  </tbody>\n",
       "</table>\n",
       "</div>"
      ],
      "text/plain": [
       "                           anti_copy_agent  copy_opponent_agent  \\\n",
       "anti_copy_agent                        0.0                -49.0   \n",
       "copy_opponent_agent                   49.0                  0.0   \n",
       "counter_reactionary_agent            -49.0                -99.0   \n",
       "cycle_agent                          -98.0                 99.0   \n",
       "paper_agent                           97.0                  0.0   \n",
       "paper_scissors_agent                  29.0                  0.0   \n",
       "pattern_agent                         99.0                 64.0   \n",
       "reactionary_agent                    -49.0                 49.0   \n",
       "rock_agent                            98.0                  0.0   \n",
       "rock_paper_agent                      30.0                  0.0   \n",
       "rock_scissors_agent                    0.0                  0.0   \n",
       "scissors_agent                        98.0                  0.0   \n",
       "statistical_agent                     96.0                 20.0   \n",
       "\n",
       "                           counter_reactionary_agent  cycle_agent  \\\n",
       "anti_copy_agent                                 49.0         98.0   \n",
       "copy_opponent_agent                             99.0        -99.0   \n",
       "counter_reactionary_agent                        0.0          0.0   \n",
       "cycle_agent                                      0.0          0.0   \n",
       "paper_agent                                    -48.0          0.0   \n",
       "paper_scissors_agent                             0.0          0.0   \n",
       "pattern_agent                                   44.0         92.0   \n",
       "reactionary_agent                                0.0          0.0   \n",
       "rock_agent                                     -49.0          0.0   \n",
       "rock_paper_agent                                 0.0          0.0   \n",
       "rock_scissors_agent                              0.0          0.0   \n",
       "scissors_agent                                 -48.0          0.0   \n",
       "statistical_agent                                0.0          0.0   \n",
       "\n",
       "                           paper_agent  paper_scissors_agent  pattern_agent  \\\n",
       "anti_copy_agent                  -97.0                 -29.0          -99.0   \n",
       "copy_opponent_agent                0.0                   0.0          -64.0   \n",
       "counter_reactionary_agent         48.0                   0.0          -44.0   \n",
       "cycle_agent                        0.0                   0.0          -92.0   \n",
       "paper_agent                        0.0                 -39.0          -99.0   \n",
       "paper_scissors_agent              39.0                   0.0          -37.0   \n",
       "pattern_agent                     99.0                  37.0            0.0   \n",
       "reactionary_agent                 97.0                   0.0          -29.0   \n",
       "rock_agent                       -99.0                   0.0          -97.0   \n",
       "rock_paper_agent                 -41.0                 -29.0            0.0   \n",
       "rock_scissors_agent                0.0                   0.0            0.0   \n",
       "scissors_agent                    99.0                  45.0          -98.0   \n",
       "statistical_agent                 97.0                   0.0          -27.0   \n",
       "\n",
       "                           reactionary_agent  rock_agent  rock_paper_agent  \\\n",
       "anti_copy_agent                         49.0       -98.0             -30.0   \n",
       "copy_opponent_agent                    -49.0         0.0               0.0   \n",
       "counter_reactionary_agent                0.0        49.0               0.0   \n",
       "cycle_agent                              0.0         0.0               0.0   \n",
       "paper_agent                            -97.0        99.0              41.0   \n",
       "paper_scissors_agent                     0.0         0.0              29.0   \n",
       "pattern_agent                           29.0        97.0               0.0   \n",
       "reactionary_agent                        0.0        98.0              29.0   \n",
       "rock_agent                             -98.0         0.0             -55.0   \n",
       "rock_paper_agent                       -29.0        55.0               0.0   \n",
       "rock_scissors_agent                     20.0         0.0               0.0   \n",
       "scissors_agent                         -97.0       -99.0               0.0   \n",
       "statistical_agent                      -57.0        98.0               0.0   \n",
       "\n",
       "                           rock_scissors_agent  scissors_agent  \\\n",
       "anti_copy_agent                            0.0           -98.0   \n",
       "copy_opponent_agent                        0.0             0.0   \n",
       "counter_reactionary_agent                  0.0            48.0   \n",
       "cycle_agent                                0.0             0.0   \n",
       "paper_agent                                0.0           -99.0   \n",
       "paper_scissors_agent                       0.0           -45.0   \n",
       "pattern_agent                              0.0            98.0   \n",
       "reactionary_agent                        -20.0            97.0   \n",
       "rock_agent                                 0.0            99.0   \n",
       "rock_paper_agent                           0.0             0.0   \n",
       "rock_scissors_agent                        0.0             0.0   \n",
       "scissors_agent                             0.0             0.0   \n",
       "statistical_agent                          0.0            99.0   \n",
       "\n",
       "                           statistical_agent  \n",
       "anti_copy_agent                        -96.0  \n",
       "copy_opponent_agent                    -20.0  \n",
       "counter_reactionary_agent                0.0  \n",
       "cycle_agent                              0.0  \n",
       "paper_agent                            -97.0  \n",
       "paper_scissors_agent                     0.0  \n",
       "pattern_agent                           27.0  \n",
       "reactionary_agent                       57.0  \n",
       "rock_agent                             -98.0  \n",
       "rock_paper_agent                         0.0  \n",
       "rock_scissors_agent                      0.0  \n",
       "scissors_agent                         -99.0  \n",
       "statistical_agent                        0.0  "
      ]
     },
     "execution_count": 75,
     "metadata": {},
     "output_type": "execute_result"
    }
   ],
   "source": [
    "# Построение матрицы корреляций\n",
    "df_scores = pd.DataFrame(scores, index=agents, columns=agents)\n",
    "df_scores"
   ]
  }
 ],
 "metadata": {
  "colab": {
   "provenance": []
  },
  "kernelspec": {
   "display_name": "base",
   "language": "python",
   "name": "python3"
  },
  "language_info": {
   "codemirror_mode": {
    "name": "ipython",
    "version": 3
   },
   "file_extension": ".py",
   "mimetype": "text/x-python",
   "name": "python",
   "nbconvert_exporter": "python",
   "pygments_lexer": "ipython3",
   "version": "3.12.4"
  }
 },
 "nbformat": 4,
 "nbformat_minor": 0
}
